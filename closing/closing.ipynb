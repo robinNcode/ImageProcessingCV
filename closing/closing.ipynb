{
 "cells": [
  {
   "cell_type": "code",
   "execution_count": 1,
   "metadata": {},
   "outputs": [],
   "source": [
    "import cv2\n",
    "import numpy\n",
    "\n",
    "# opening custom function\n",
    "def imageClosing(image, karnel, loop):\n",
    "    dialation = cv2.dilate(image, karnel, loop)\n",
    "    result = cv2.erode(dialation, karnel, loop)\n",
    "    return result\n",
    "\n",
    "inputImg = cv2.imread('../images/name.png', cv2.IMREAD_GRAYSCALE)\n",
    "cv2.imshow('Input Image', inputImg)\n",
    "\n",
    "kernel = numpy.ones((3, 3), numpy.uint8)\n",
    "\n",
    "firstClosing = imageClosing(inputImg, kernel, 1)\n",
    "secondClosing = imageClosing(firstClosing, kernel, 1)\n",
    "\n",
    "cv2.imshow('First Closing', firstClosing)\n",
    "cv2.imshow('Second Closing', secondClosing)\n",
    "\n",
    "\n",
    "cv2.waitKey(0)\n",
    "cv2.destroyAllWindows()"
   ]
  }
 ],
 "metadata": {
  "kernelspec": {
   "display_name": "Python 3.10.1 64-bit",
   "language": "python",
   "name": "python3"
  },
  "language_info": {
   "codemirror_mode": {
    "name": "ipython",
    "version": 3
   },
   "file_extension": ".py",
   "mimetype": "text/x-python",
   "name": "python",
   "nbconvert_exporter": "python",
   "pygments_lexer": "ipython3",
   "version": "3.10.1"
  },
  "orig_nbformat": 4,
  "vscode": {
   "interpreter": {
    "hash": "fb4569285eef3a3450cb62085a5b1e0da4bce0af555edc33dcf29baf3acc1368"
   }
  }
 },
 "nbformat": 4,
 "nbformat_minor": 2
}
