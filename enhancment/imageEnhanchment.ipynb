{
 "cells": [
  {
   "cell_type": "code",
   "execution_count": 1,
   "metadata": {},
   "outputs": [],
   "source": [
    "import cv2\n",
    "import numpy as np\n",
    "\n",
    "# Read image\n",
    "inputImage = cv2.imread('../images/name.png');\n",
    "\n",
    "# image enhancement\n",
    "# 1. Histogram Equalization\n",
    "def equalizeHist(self, inputImage):\n",
    "    # Convert to grayscale\n",
    "    grayImage = cv2.cvtColor(inputImage, cv2.COLOR_BGR2GRAY)\n",
    "    # Apply histogram equalization\n",
    "    equalizedImage = cv2.equalizeHist(grayImage)\n",
    "    return equalizedImage\n"
   ]
  }
 ],
 "metadata": {
  "kernelspec": {
   "display_name": "Python 3.9.6 64-bit",
   "language": "python",
   "name": "python3"
  },
  "language_info": {
   "codemirror_mode": {
    "name": "ipython",
    "version": 3
   },
   "file_extension": ".py",
   "mimetype": "text/x-python",
   "name": "python",
   "nbconvert_exporter": "python",
   "pygments_lexer": "ipython3",
   "version": "3.9.6"
  },
  "orig_nbformat": 4,
  "vscode": {
   "interpreter": {
    "hash": "79033214b8e24319e331967a130cab78b3958a0a69b20cd902fc3976be47d058"
   }
  }
 },
 "nbformat": 4,
 "nbformat_minor": 2
}
