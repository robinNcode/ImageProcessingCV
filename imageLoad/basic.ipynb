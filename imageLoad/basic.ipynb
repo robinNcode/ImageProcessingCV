{
 "cells": [
  {
   "cell_type": "code",
   "execution_count": 8,
   "metadata": {},
   "outputs": [
    {
     "data": {
      "text/plain": [
       "-1"
      ]
     },
     "execution_count": 8,
     "metadata": {},
     "output_type": "execute_result"
    }
   ],
   "source": [
    "import numpy\n",
    "import cv2\n",
    "import math\n",
    "\n",
    "img = cv2.imread('currenmenswatch1.png', cv2.IMREAD_GRAYSCALE)\n",
    "\n",
    "cv2.imshow('Inputed Image', img)\n",
    "cv2.waitKey() # most important \n",
    "\n",
    "#print(img.min())\n",
    "#print(img.max())\n",
    "\n",
    "for xAxis in range(img.shape[0]):\n",
    "    for yAxis in range(img.shape[0]):\n",
    "        eachPixel = img.item(xAxis, yAxis)\n",
    "\n",
    "        if eachPixel > 155:\n",
    "            img.itemset((xAxis, yAxis), 200)\n",
    "        else:\n",
    "            img.itemset((xAxis, yAxis), 5)\n",
    "\n",
    "cv2.imshow('Processed Image', img)\n",
    "cv2.waitKey() # most important \n"
   ]
  }
 ],
 "metadata": {
  "kernelspec": {
   "display_name": "Python 3.9.6 64-bit",
   "language": "python",
   "name": "python3"
  },
  "language_info": {
   "codemirror_mode": {
    "name": "ipython",
    "version": 3
   },
   "file_extension": ".py",
   "mimetype": "text/x-python",
   "name": "python",
   "nbconvert_exporter": "python",
   "pygments_lexer": "ipython3",
   "version": "3.9.6"
  },
  "orig_nbformat": 4,
  "vscode": {
   "interpreter": {
    "hash": "79033214b8e24319e331967a130cab78b3958a0a69b20cd902fc3976be47d058"
   }
  }
 },
 "nbformat": 4,
 "nbformat_minor": 2
}
