{
 "cells": [
  {
   "cell_type": "code",
   "execution_count": 2,
   "metadata": {},
   "outputs": [],
   "source": [
    "import cv2\n",
    "import math\n",
    "\n",
    "inputImage = cv2.imread('../images/kath_golap2.jpg', 1)\n",
    "\n",
    "cv2.imshow('Inputed Image', inputImage)\n",
    "\n",
    "# Negate the original image\n",
    "img_neg = 1 - inputImage\n",
    "\n",
    "cv2.imshow('Negative Image', img_neg)\n",
    "\n",
    "cv2.waitKey(0)\n",
    "cv2.destroyAllWindows()"
   ]
  }
 ],
 "metadata": {
  "kernelspec": {
   "display_name": "Python 3.9.6 64-bit",
   "language": "python",
   "name": "python3"
  },
  "language_info": {
   "codemirror_mode": {
    "name": "ipython",
    "version": 3
   },
   "file_extension": ".py",
   "mimetype": "text/x-python",
   "name": "python",
   "nbconvert_exporter": "python",
   "pygments_lexer": "ipython3",
   "version": "3.9.6"
  },
  "orig_nbformat": 4,
  "vscode": {
   "interpreter": {
    "hash": "79033214b8e24319e331967a130cab78b3958a0a69b20cd902fc3976be47d058"
   }
  }
 },
 "nbformat": 4,
 "nbformat_minor": 2
}
