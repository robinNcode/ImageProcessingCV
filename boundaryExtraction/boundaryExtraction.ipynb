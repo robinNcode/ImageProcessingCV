{
  "cells": [
    {
      "cell_type": "code",
      "execution_count": 5,
      "metadata": {
        "colab": {
          "base_uri": "https://localhost:8080/",
          "height": 386
        },
        "id": "KKcwlaLMZlaJ",
        "outputId": "66753c4f-7b6a-4815-bd6f-b00cfb03e636"
      },
      "outputs": [],
      "source": [
        "import cv2\n",
        "import numpy\n",
        "\n",
        "inputImg = cv2.imread('../images/currenmenswatch1.png', cv2.IMREAD_GRAYSCALE)\n",
        "cv2.imshow('Input Image', inputImg)\n",
        "\n",
        "kernel1 = numpy.ones((3, 3), numpy.uint8)\n",
        "\n",
        "# inner boundary\n",
        "inputImg_erosion = cv2.erode(inputImg, kernel1, iterations = 2)\n",
        "inner = inputImg - inputImg_erosion\n",
        "\n",
        "# outer boundary\n",
        "inputImg_dilation = cv2.dilate(inputImg, kernel1, iterations = 2)\n",
        "outer = inputImg_dilation - inputImg\n",
        "\n",
        "cv2.imshow('Inner Boundary', inner)\n",
        "cv2.imshow('Outer Boundary', outer)\n",
        "\n",
        "cv2.waitKey(0)\n",
        "cv2.destroyAllWindows()\n"
      ]
    }
  ],
  "metadata": {
    "colab": {
      "provenance": []
    },
    "kernelspec": {
      "display_name": "Python 3.9.6 64-bit",
      "language": "python",
      "name": "python3"
    },
    "language_info": {
      "codemirror_mode": {
        "name": "ipython",
        "version": 3
      },
      "file_extension": ".py",
      "mimetype": "text/x-python",
      "name": "python",
      "nbconvert_exporter": "python",
      "pygments_lexer": "ipython3",
      "version": "3.9.6"
    },
    "vscode": {
      "interpreter": {
        "hash": "79033214b8e24319e331967a130cab78b3958a0a69b20cd902fc3976be47d058"
      }
    }
  },
  "nbformat": 4,
  "nbformat_minor": 0
}
