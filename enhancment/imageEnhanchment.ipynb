{
 "cells": [
  {
   "cell_type": "code",
   "execution_count": null,
   "metadata": {},
   "outputs": [],
   "source": [
    "import cv2\n",
    "import numpy as np\n",
    "\n",
    "# Read image\n",
    "inputImage = cv2.imread('../images/name.png');\n",
    "\n",
    "# image enhancement\n",
    "# 1. Histogram Equalization\n",
    "    def equalizeHist(self, inputImage):\n",
    "        # Convert to grayscale\n",
    "        grayImage = cv2.cvtColor(inputImage, cv2.COLOR_BGR2GRAY)\n",
    "        # Apply histogram equalization\n",
    "        equalizedImage = cv2.equalizeHist(grayImage)\n",
    "        return equalizedImage\n",
    "        \n"
   ]
  }
 ],
 "metadata": {
  "kernelspec": {
   "display_name": "Python 3.10.4 64-bit",
   "language": "python",
   "name": "python3"
  },
  "language_info": {
   "name": "python",
   "version": "3.10.4"
  },
  "orig_nbformat": 4,
  "vscode": {
   "interpreter": {
    "hash": "3ad933181bd8a04b432d3370b9dc3b0662ad032c4dfaa4e4f1596c548f763858"
   }
  }
 },
 "nbformat": 4,
 "nbformat_minor": 2
}
