{
 "cells": [
  {
   "cell_type": "code",
   "execution_count": 1,
   "metadata": {},
   "outputs": [],
   "source": [
    "import cv2\n",
    "import math\n",
    "img = cv2.imread('../images/currenmenswatch1.png', cv2.IMREAD_GRAYSCALE)\n",
    "brightImage = img.copy()\n",
    "darkImage = img.copy()\n",
    "\n",
    "c = 200 # positive constant\n",
    "\n",
    "cv2.imshow('input image',img)\n",
    "\n",
    "for xAxis in range(img.shape[0]):\n",
    "    for yAxis in range(img.shape[1]):\n",
    "        eachPixel = img.item(xAxis, yAxis) # S\n",
    "\n",
    "        gamma_one = (c*(eachPixel/c) ** 0.4)\n",
    "        gamma_two = (c*(eachPixel/c) ** 2.2)\n",
    "\n",
    "        brightImage.itemset((xAxis, yAxis), gamma_one)\n",
    "        darkImage.itemset((xAxis, yAxis), gamma_two)\n",
    "        \n",
    "cv2.imshow('gamma bright image', brightImage)\n",
    "cv2.imshow('gamma dark image', darkImage)\n",
    "\n",
    "cv2.waitKey(0)\n",
    "cv2.destroyAllWindows()"
   ]
  }
 ],
 "metadata": {
  "kernelspec": {
   "display_name": "Python 3.9.6 64-bit",
   "language": "python",
   "name": "python3"
  },
  "language_info": {
   "codemirror_mode": {
    "name": "ipython",
    "version": 3
   },
   "file_extension": ".py",
   "mimetype": "text/x-python",
   "name": "python",
   "nbconvert_exporter": "python",
   "pygments_lexer": "ipython3",
   "version": "3.9.6"
  },
  "orig_nbformat": 4,
  "vscode": {
   "interpreter": {
    "hash": "79033214b8e24319e331967a130cab78b3958a0a69b20cd902fc3976be47d058"
   }
  }
 },
 "nbformat": 4,
 "nbformat_minor": 2
}
