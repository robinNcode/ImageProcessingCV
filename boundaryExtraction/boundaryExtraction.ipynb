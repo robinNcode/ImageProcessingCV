{
  "cells": [
    {
      "cell_type": "code",
      "execution_count": 1,
      "metadata": {
        "colab": {
          "base_uri": "https://localhost:8080/",
          "height": 386
        },
        "id": "KKcwlaLMZlaJ",
        "outputId": "66753c4f-7b6a-4815-bd6f-b00cfb03e636"
      },
      "outputs": [
        {
          "ename": "ModuleNotFoundError",
          "evalue": "No module named 'cv2'",
          "output_type": "error",
          "traceback": [
            "\u001b[0;31m---------------------------------------------------------------------------\u001b[0m",
            "\u001b[0;31mModuleNotFoundError\u001b[0m                       Traceback (most recent call last)",
            "Cell \u001b[0;32mIn [1], line 1\u001b[0m\n\u001b[0;32m----> 1\u001b[0m \u001b[39mimport\u001b[39;00m \u001b[39mcv2\u001b[39;00m\n\u001b[1;32m      2\u001b[0m \u001b[39mimport\u001b[39;00m \u001b[39mnumpy\u001b[39;00m\n\u001b[1;32m      4\u001b[0m inputImg \u001b[39m=\u001b[39m cv2\u001b[39m.\u001b[39mimread(\u001b[39m'\u001b[39m\u001b[39m../images/name.png\u001b[39m\u001b[39m'\u001b[39m, cv2\u001b[39m.\u001b[39mIMREAD_GRAYSCALE)\n",
            "\u001b[0;31mModuleNotFoundError\u001b[0m: No module named 'cv2'"
          ]
        }
      ],
      "source": [
        "import cv2\n",
        "import numpy\n",
        "\n",
        "inputImg = cv2.imread('../images/name.png', cv2.IMREAD_GRAYSCALE)\n",
        "cv2.imshow('Input Image', inputImg)\n",
        "\n",
        "kernel1 = numpy.ones((3, 3), numpy.uint8)\n",
        "\n",
        "# inner boundary\n",
        "inputImg_erosion = cv2.erode(inputImg, kernel1, iterations = 1)\n",
        "inner = inputImg - inputImg_erosion\n",
        "\n",
        "# outer boundary\n",
        "inputImg_dilation = cv2.dilate(inputImg, kernel1, iterations = 1)\n",
        "outer = inputImg_dilation - inputImg\n",
        "\n",
        "cv2.imshow('Inner Boundary', inner)\n",
        "cv2.imshow('Outer Boundary', outer)\n",
        "\n",
        "cv2.waitKey(0)\n",
        "cv2.destroyAllWindows()\n"
      ]
    }
  ],
  "metadata": {
    "colab": {
      "provenance": []
    },
    "kernelspec": {
      "display_name": "Python 3.10.4 64-bit",
      "language": "python",
      "name": "python3"
    },
    "language_info": {
      "codemirror_mode": {
        "name": "ipython",
        "version": 3
      },
      "file_extension": ".py",
      "mimetype": "text/x-python",
      "name": "python",
      "nbconvert_exporter": "python",
      "pygments_lexer": "ipython3",
      "version": "3.10.4"
    },
    "vscode": {
      "interpreter": {
        "hash": "3ad933181bd8a04b432d3370b9dc3b0662ad032c4dfaa4e4f1596c548f763858"
      }
    }
  },
  "nbformat": 4,
  "nbformat_minor": 0
}
