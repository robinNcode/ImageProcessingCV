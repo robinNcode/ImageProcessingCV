{
 "cells": [
  {
   "cell_type": "code",
   "execution_count": 2,
   "metadata": {},
   "outputs": [],
   "source": [
    "import cv2\n",
    "import math\n",
    "img = cv2.imread('../images/currenmenswatch1.png', cv2.IMREAD_GRAYSCALE)\n",
    "brightImage = img.copy()\n",
    "darkImage = img.copy()\n",
    "\n",
    "c = 200 # positive constant\n",
    "\n",
    "cv2.imshow('input image',img)\n",
    "\n",
    "for xAxis in range(img.shape[0]):\n",
    "    for yAxis in range(img.shape[1]):\n",
    "        eachPixel = img.item(xAxis, yAxis) # S\n",
    "\n",
    "        gamma_one = (c*(eachPixel/c) ** 0.4)\n",
    "        gamma_two = (c*(eachPixel/c) ** 2.2)\n",
    "\n",
    "        brightImage.itemset((xAxis, yAxis), gamma_one)\n",
    "        darkImage.itemset((xAxis, yAxis), gamma_two)\n",
    "\n",
    "#cv2.imshow('gamma bright image', brightImage)\n",
    "#cv2.imshow('gamma dark image', darkImage)\n",
    "\n",
    "im_h = cv2.hconcat([brightImage, darkImage])\n",
    "cv2.imshow('data/dst/opencv_hconcat.jpg', im_h)\n",
    "\n",
    "cv2.waitKey(0)\n",
    "cv2.destroyAllWindows()"
   ]
  }
 ],
 "metadata": {
  "kernelspec": {
   "display_name": "Python 3.10.1 64-bit",
   "language": "python",
   "name": "python3"
  },
  "language_info": {
   "codemirror_mode": {
    "name": "ipython",
    "version": 3
   },
   "file_extension": ".py",
   "mimetype": "text/x-python",
   "name": "python",
   "nbconvert_exporter": "python",
   "pygments_lexer": "ipython3",
   "version": "3.10.1"
  },
  "orig_nbformat": 4,
  "vscode": {
   "interpreter": {
    "hash": "fb4569285eef3a3450cb62085a5b1e0da4bce0af555edc33dcf29baf3acc1368"
   }
  }
 },
 "nbformat": 4,
 "nbformat_minor": 2
}
