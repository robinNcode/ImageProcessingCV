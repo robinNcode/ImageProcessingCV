{
 "cells": [
  {
   "cell_type": "code",
   "execution_count": null,
   "metadata": {},
   "outputs": [],
   "source": [
    "import numpy as np\n",
    "import cv2\n",
    "import math\n",
    "img = cv2.imread('../images/currenmenswatch1.png', cv2.IMREAD_GRAYSCALE)\n",
    "out=img.copy()\n",
    "c = 31\n",
    "\n",
    "cv2.imshow('input image',img)\n",
    "\n",
    "for xAxis in range(img.shape[0]):\n",
    "    for yAxis in range(img.shape[1]):\n",
    "        eachPixel = img.item(xAxis, yAxis)\n",
    "        d = math.pow(eachPixel / c, 2)\n",
    "        r = d - 1\n",
    "        out.itemset((xAxis, yAxis), r)\n",
    "        \n",
    "cv2.imshow('output image',out)\n",
    "\n",
    "cv2.waitKey(0)\n",
    "cv2.destroyAllWindows()"
   ]
  }
 ],
 "metadata": {
  "kernelspec": {
   "display_name": "Python 3.9.6 64-bit",
   "language": "python",
   "name": "python3"
  },
  "language_info": {
   "codemirror_mode": {
    "name": "ipython",
    "version": 3
   },
   "file_extension": ".py",
   "mimetype": "text/x-python",
   "name": "python",
   "nbconvert_exporter": "python",
   "pygments_lexer": "ipython3",
   "version": "3.9.6"
  },
  "orig_nbformat": 4,
  "vscode": {
   "interpreter": {
    "hash": "79033214b8e24319e331967a130cab78b3958a0a69b20cd902fc3976be47d058"
   }
  }
 },
 "nbformat": 4,
 "nbformat_minor": 2
}
