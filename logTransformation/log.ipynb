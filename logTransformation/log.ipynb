{
 "cells": [
  {
   "cell_type": "code",
   "execution_count": null,
   "metadata": {},
   "outputs": [
    {
     "ename": "",
     "evalue": "",
     "output_type": "error",
     "traceback": [
      "\u001b[1;31mFailed to start the Kernel. \n",
      "\u001b[1;31mUnable to start Kernel 'Python 3.9.6 64-bit' due to connection timeout. \n",
      "\u001b[1;31mView Jupyter <a href='command:jupyter.viewOutput'>log</a> for further details."
     ]
    }
   ],
   "source": [
    "import cv2\n",
    "import numpy as np\n",
    "import matplotlib.pyplot as plt\n",
    "   \n",
    "# Read an image\n",
    "image = cv2.imread('../images/currenmenswatch1.png')\n",
    "\n",
    "print(image)\n",
    "\n",
    "# Apply log transformation method\n",
    "c = 255 / np.log(1 + np.max(image))\n",
    "log_image = c * (np.log(image + 1))\n",
    "\n",
    "# Specify the data type so that\n",
    "# float value will be converted to int\n",
    "log_image = np.array(log_image, dtype = np.uint8)\n",
    "   \n",
    "# Display both images\n",
    "plt.imshow(image)\n",
    "plt.show()\n",
    "plt.imshow(log_image)\n",
    "plt.show()"
   ]
  }
 ],
 "metadata": {
  "kernelspec": {
   "display_name": "Python 3.9.6 64-bit",
   "language": "python",
   "name": "python3"
  },
  "language_info": {
   "name": "python",
   "version": "3.9.6 (tags/v3.9.6:db3ff76, Jun 28 2021, 15:26:21) [MSC v.1929 64 bit (AMD64)]"
  },
  "orig_nbformat": 4,
  "vscode": {
   "interpreter": {
    "hash": "79033214b8e24319e331967a130cab78b3958a0a69b20cd902fc3976be47d058"
   }
  }
 },
 "nbformat": 4,
 "nbformat_minor": 2
}
