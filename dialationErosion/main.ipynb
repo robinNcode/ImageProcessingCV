{
 "cells": [
  {
   "cell_type": "code",
   "execution_count": 1,
   "metadata": {},
   "outputs": [],
   "source": [
    "import cv2\n",
    "import numpy\n",
    "\n",
    "inputImg = cv2.imread('../images/oakkha.jpg', 0)\n",
    "cv2.imshow('Input Image', inputImg)\n",
    "\n",
    "kernel1 = numpy.ones((5, 5), numpy.uint8)\n",
    "kernel2 = numpy.ones((3, 3), numpy.uint8)\n",
    "\n",
    "inputImg_erosion = cv2.erode(inputImg, kernel1, iterations = 1)\n",
    "inputImg_dilation = cv2.dilate(inputImg, kernel2, iterations = 1)\n",
    "\n",
    "cv2.imshow('After Erosion', inputImg_erosion)\n",
    "cv2.imshow('After Dilation', inputImg_dilation)\n",
    "\n",
    "cv2.waitKey(0)\n",
    "cv2.destroyAllWindows()\n"
   ]
  }
 ],
 "metadata": {
  "kernelspec": {
   "display_name": "Python 3.9.6 64-bit",
   "language": "python",
   "name": "python3"
  },
  "language_info": {
   "codemirror_mode": {
    "name": "ipython",
    "version": 3
   },
   "file_extension": ".py",
   "mimetype": "text/x-python",
   "name": "python",
   "nbconvert_exporter": "python",
   "pygments_lexer": "ipython3",
   "version": "3.9.6"
  },
  "orig_nbformat": 4,
  "vscode": {
   "interpreter": {
    "hash": "79033214b8e24319e331967a130cab78b3958a0a69b20cd902fc3976be47d058"
   }
  }
 },
 "nbformat": 4,
 "nbformat_minor": 2
}
