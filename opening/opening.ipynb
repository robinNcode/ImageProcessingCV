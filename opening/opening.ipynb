{
 "cells": [
  {
   "cell_type": "code",
   "execution_count": 2,
   "metadata": {},
   "outputs": [],
   "source": [
    "import cv2\n",
    "import numpy\n",
    "\n",
    "# opening custom function\n",
    "def imageOpenning(image, karnel, loop):\n",
    "    erosion = cv2.erode(image, karnel, loop)\n",
    "    result = cv2.dilate(erosion, karnel, loop)\n",
    "    return result\n",
    "\n",
    "inputImg = cv2.imread('../images/name.png', cv2.IMREAD_GRAYSCALE)\n",
    "cv2.imshow('Input Image', inputImg)\n",
    "\n",
    "kernel = numpy.ones((3, 3), numpy.uint8)\n",
    "\n",
    "firstOpenning = imageOpenning(inputImg, kernel, 1)\n",
    "secondOpenning = imageOpenning(firstOpenning, kernel, 1)\n",
    "\n",
    "cv2.imshow('First Openning', firstOpenning)\n",
    "cv2.imshow('Second Openning', secondOpenning)\n",
    "\n",
    "\n",
    "cv2.waitKey(0)\n",
    "cv2.destroyAllWindows()"
   ]
  }
 ],
 "metadata": {
  "kernelspec": {
   "display_name": "Python 3.10.1 64-bit",
   "language": "python",
   "name": "python3"
  },
  "language_info": {
   "codemirror_mode": {
    "name": "ipython",
    "version": 3
   },
   "file_extension": ".py",
   "mimetype": "text/x-python",
   "name": "python",
   "nbconvert_exporter": "python",
   "pygments_lexer": "ipython3",
   "version": "3.10.1"
  },
  "orig_nbformat": 4,
  "vscode": {
   "interpreter": {
    "hash": "fb4569285eef3a3450cb62085a5b1e0da4bce0af555edc33dcf29baf3acc1368"
   }
  }
 },
 "nbformat": 4,
 "nbformat_minor": 2
}
