{
 "cells": [
  {
   "cell_type": "code",
   "execution_count": 1,
   "metadata": {},
   "outputs": [],
   "source": [
    "import cv2\n",
    "import numpy\n",
    "\n",
    "# opening custom function\n",
    "def imageClosing(image, karnel, loop):\n",
    "    dialation = cv2.dilate(image, karnel, loop)\n",
    "    result = cv2.erode(dialation, karnel, loop)\n",
    "    return result\n",
    "\n",
    "inputImg = cv2.imread('../images/name.png', cv2.IMREAD_GRAYSCALE)\n",
    "cv2.imshow('Input Image', inputImg)\n",
    "\n",
    "kernel = numpy.ones((3, 3), numpy.uint8)\n",
    "\n",
    "firstClosing = imageClosing(inputImg, kernel, 1)\n",
    "secondClosing = imageClosing(firstClosing, kernel, 1)\n",
    "\n",
    "cv2.imshow('First Closing', firstClosing)\n",
    "cv2.imshow('Second Closing', secondClosing)\n",
    "\n",
    "\n",
    "cv2.waitKey(0)\n",
    "cv2.destroyAllWindows()"
   ]
  }
 ],
 "metadata": {
  "kernelspec": {
   "display_name": "Python 3.9.6 64-bit",
   "language": "python",
   "name": "python3"
  },
  "language_info": {
   "codemirror_mode": {
    "name": "ipython",
    "version": 3
   },
   "file_extension": ".py",
   "mimetype": "text/x-python",
   "name": "python",
   "nbconvert_exporter": "python",
   "pygments_lexer": "ipython3",
   "version": "3.9.6"
  },
  "orig_nbformat": 4,
  "vscode": {
   "interpreter": {
    "hash": "79033214b8e24319e331967a130cab78b3958a0a69b20cd902fc3976be47d058"
   }
  }
 },
 "nbformat": 4,
 "nbformat_minor": 2
}
